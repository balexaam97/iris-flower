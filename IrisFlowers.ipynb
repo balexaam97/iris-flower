{
  "nbformat": 4,
  "nbformat_minor": 0,
  "metadata": {
    "colab": {
      "provenance": [],
      "authorship_tag": "ABX9TyPUX9PDl0PRu9kHxZREjKRi",
      "include_colab_link": true
    },
    "kernelspec": {
      "name": "python3",
      "display_name": "Python 3"
    },
    "language_info": {
      "name": "python"
    }
  },
  "cells": [
    {
      "cell_type": "markdown",
      "metadata": {
        "id": "view-in-github",
        "colab_type": "text"
      },
      "source": [
        "<a href=\"https://colab.research.google.com/github/balexaam97/iris-flower/blob/main/IrisFlowers.ipynb\" target=\"_parent\"><img src=\"https://colab.research.google.com/assets/colab-badge.svg\" alt=\"Open In Colab\"/></a>"
      ]
    },
    {
      "cell_type": "markdown",
      "source": [
        "Sistema experto Iris Flowers Dataset\n"
      ],
      "metadata": {
        "id": "-Ad0Oz8yRFpe"
      }
    },
    {
      "cell_type": "code",
      "source": [
        "long_sep = float(input(\"Ingrese la longitud del sépalo: \"))\n",
        "ancho_sep = float(input(\"Ingrese el ancho del sépalo: \"))\n",
        "long_pet = float(input(\"Ingrese la longitud del petalo: \"))\n",
        "ancho_pet = float(input(\"Ingrese el ancho del petalo: \"))\n",
        "\n",
        "\n",
        "if((long_sep>=4.3 and long_sep<=5.8) and (ancho_sep>=2.3 and ancho_sep<=4.5) and (long_pet>=1 and long_pet<=1.9) and (ancho_pet>=0.1 and ancho_pet<=0.6)):\n",
        "\n",
        "  print(\"La planta es setosa\")\n",
        "\n",
        "elif ((long_sep>=4.9 and long_sep<=7) and (ancho_sep>=2 and ancho_sep<=3.4) and (long_pet>=3 and long_pet<=5.1) and (ancho_pet>=1 and ancho_pet<=1.8)):\n",
        "\n",
        "    print(\"La planta es versicolor\")\n",
        "\n",
        "elif ((long_sep>=4.9 and long_sep<=7.9) and (ancho_sep>=2.2 and ancho_sep<=3.8) and (long_pet>=4.5 and long_pet<=6.9) and (ancho_pet>=1.4 and ancho_pet<=2.5)):\n",
        "\n",
        "    print(\"La planta es virginica\")"
      ],
      "metadata": {
        "colab": {
          "base_uri": "https://localhost:8080/"
        },
        "id": "CRtTQyeVRDwp",
        "outputId": "4322cbc1-b49d-4739-da85-28abb59040fd"
      },
      "execution_count": null,
      "outputs": [
        {
          "output_type": "stream",
          "name": "stdout",
          "text": [
            "Ingrese la longitud del sépalo: 5.8\n",
            "Ingrese el ancho del sépalo: 2.7\n",
            "Ingrese la longitud del petalo: 5.1\n",
            "Ingrese el ancho del petalo: 1.9\n",
            "La planta es virginica\n"
          ]
        }
      ]
    },
    {
      "cell_type": "code",
      "source": [
        "while True:\n",
        "    long_sep = float(input(\"Ingrese la longitud del sépalo: \"))\n",
        "    ancho_sep = float(input(\"Ingrese el ancho del sépalo: \"))\n",
        "    long_pet = float(input(\"Ingrese la longitud del pétalo: \"))\n",
        "    ancho_pet = float(input(\"Ingrese el ancho del pétalo: \"))\n",
        "\n",
        "    if (long_sep >= 4.3 and long_sep <= 5.8) and (ancho_sep >= 2.3 and ancho_sep <= 4.5) and (long_pet >= 1 and long_pet <= 1.9) and (ancho_pet >= 0.1 and ancho_pet <= 0.6):\n",
        "        print(\"La planta es setosa\")\n",
        "\n",
        "    elif (long_sep >= 4.9 and long_sep <= 7) and (ancho_sep >= 2 and ancho_sep <= 3.4) and (long_pet >= 3 and long_pet <= 5.1) and (ancho_pet >= 1 and ancho_pet <= 1.8):\n",
        "        print(\"La planta es versicolor\")\n",
        "\n",
        "    elif (long_sep >= 4.9 and long_sep <= 7.9) and (ancho_sep >= 2.2 and ancho_sep <= 3.8) and (long_pet >= 4.5 and long_pet <= 6.9) and (ancho_pet >= 1.4 and ancho_pet <= 2.5):\n",
        "        print(\"La planta es virginica\")\n",
        "\n",
        "    continuar = input(\"¿Desea continuar? (s/n): \")\n",
        "    if continuar.lower() != 's':\n",
        "        break"
      ],
      "metadata": {
        "colab": {
          "base_uri": "https://localhost:8080/"
        },
        "id": "EdgasaKcncUL",
        "outputId": "dfc0e94d-1574-46b0-bfcb-741dbdaf1721"
      },
      "execution_count": null,
      "outputs": [
        {
          "name": "stdout",
          "output_type": "stream",
          "text": [
            "Ingrese la longitud del sépalo: 6.4\n",
            "Ingrese el ancho del sépalo: 3.2\n",
            "Ingrese la longitud del pétalo: 4.5\n",
            "Ingrese el ancho del pétalo: 1.5\n",
            "La planta es versicolor\n",
            "¿Desea continuar? (s/n): s\n",
            "Ingrese la longitud del sépalo: 4.6\n",
            "Ingrese el ancho del sépalo: 3.1\n",
            "Ingrese la longitud del pétalo: 1.5\n",
            "Ingrese el ancho del pétalo: 0.2\n",
            "La planta es setosa\n",
            "¿Desea continuar? (s/n): s\n",
            "Ingrese la longitud del sépalo: 7\n",
            "Ingrese el ancho del sépalo: 3.2\n",
            "Ingrese la longitud del pétalo: 4.7\n",
            "Ingrese el ancho del pétalo: 1.4\n",
            "La planta es versicolor\n",
            "¿Desea continuar? (s/n): s\n",
            "Ingrese la longitud del sépalo: 6.9\n",
            "Ingrese el ancho del sépalo: 3.1\n",
            "Ingrese la longitud del pétalo: 4.9\n",
            "Ingrese el ancho del pétalo: 1.5\n",
            "La planta es versicolor\n",
            "¿Desea continuar? (s/n): s\n",
            "Ingrese la longitud del sépalo: 5.5\n",
            "Ingrese el ancho del sépalo: 2.3\n",
            "Ingrese la longitud del pétalo: 4\n",
            "Ingrese el ancho del pétalo: 1.3\n",
            "La planta es versicolor\n",
            "¿Desea continuar? (s/n): s\n",
            "Ingrese la longitud del sépalo: 6.5\n",
            "Ingrese el ancho del sépalo: 2.8\n",
            "Ingrese la longitud del pétalo: 4.6\n",
            "Ingrese el ancho del pétalo: 1.5\n",
            "La planta es versicolor\n",
            "¿Desea continuar? (s/n): s\n",
            "Ingrese la longitud del sépalo: 6.3\n",
            "Ingrese el ancho del sépalo: 3.3\n",
            "Ingrese la longitud del pétalo: 6\n",
            "Ingrese el ancho del pétalo: 2.5\n",
            "La planta es virginica\n",
            "¿Desea continuar? (s/n): s\n",
            "Ingrese la longitud del sépalo: 4.9\n",
            "Ingrese el ancho del sépalo: 3\n",
            "Ingrese la longitud del pétalo: 1.4\n",
            "Ingrese el ancho del pétalo: 0.2\n",
            "La planta es setosa\n",
            "¿Desea continuar? (s/n): n\n"
          ]
        }
      ]
    }
  ]
}